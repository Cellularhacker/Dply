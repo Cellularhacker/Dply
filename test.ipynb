{
 "cells": [
  {
   "cell_type": "code",
   "execution_count": 3,
   "metadata": {},
   "outputs": [],
   "source": [
    "import sqlite3"
   ]
  },
  {
   "cell_type": "code",
   "execution_count": 6,
   "metadata": {},
   "outputs": [],
   "source": [
    "SQL = sqlite3.connect(\"SQL/SQL.sqlite\")\n",
    "DataBase = SQL.cursor()\n"
   ]
  },
  {
   "cell_type": "code",
   "execution_count": null,
   "metadata": {},
   "outputs": [],
   "source": [
    "id = 3\n",
    "DataBase.execute(f\"\"\"select exists (select * from DevContainer where id = {id});\"\"\")\n",
    "\n",
    "DataBase.fetchall()[0][0]\n",
    "\n",
    "bool(1)"
   ]
  },
  {
   "cell_type": "code",
   "execution_count": 1,
   "metadata": {},
   "outputs": [],
   "source": [
    "projectName = \"mireuTest\""
   ]
  },
  {
   "cell_type": "code",
   "execution_count": 24,
   "metadata": {},
   "outputs": [],
   "source": [
    "DevContainerID = str(DataBase.execute(\n",
    "    f\"SELECT `DevContainerID` FROM `DevContainer` WHERE `DevContainerName` = '{projectName}'\"\n",
    ").fetchall()[0][0])\n"
   ]
  },
  {
   "cell_type": "code",
   "execution_count": 36,
   "metadata": {},
   "outputs": [
    {
     "name": "stdout",
     "output_type": "stream",
     "text": [
      "[('4f8964ec2e',)]\n"
     ]
    }
   ],
   "source": [
    "databasesIDs = DataBase.execute(\n",
    "    f\"SELECT `DataBaseID` FROM `DatabaseContainer` WHERE `DevContainerID` = '{DevContainerID}'\"\n",
    ").fetchall()\n",
    "\n",
    "print(databasesIDs)\n",
    "    "
   ]
  },
  {
   "cell_type": "code",
   "execution_count": null,
   "metadata": {},
   "outputs": [],
   "source": [
    "Tag = \"0sshcontainer\".replace(\"0\", \"ubuntu\")\n",
    "\n",
    "if \"GPU\" == \"GPU\":\n",
    "    Tag = \"gpu\" + Tag"
   ]
  },
  {
   "cell_type": "code",
   "execution_count": null,
   "metadata": {},
   "outputs": [],
   "source": [
    "Tag"
   ]
  },
  {
   "cell_type": "code",
   "execution_count": 8,
   "metadata": {},
   "outputs": [],
   "source": [
    "import docker\n",
    "\n",
    "DockerClient = docker.DockerClient()\n",
    "\n",
    "networkContainer = DockerClient.networks.create(\"test\")\n",
    "volumeContainer = DockerClient.volumes.create(\"test\")\n",
    "\n",
    "containerOS = \"ubuntu\""
   ]
  },
  {
   "cell_type": "code",
   "execution_count": 9,
   "metadata": {},
   "outputs": [],
   "source": [
    "Tag = \"containerjupyter0\".replace(\n",
    "    \"0\", containerOS\n",
    ")"
   ]
  },
  {
   "cell_type": "code",
   "execution_count": 10,
   "metadata": {},
   "outputs": [
    {
     "data": {
      "text/plain": [
       "<Image: 'registry.gitlab.com/container-images4/docker-jupyter-container:containerjupyterubuntu'>"
      ]
     },
     "execution_count": 10,
     "metadata": {},
     "output_type": "execute_result"
    }
   ],
   "source": [
    "DockerClient.images.pull(\n",
    "    f\"\"\"registry.gitlab.com/container-images4/docker-jupyter-container:{Tag}\"\"\"\n",
    ")"
   ]
  },
  {
   "cell_type": "code",
   "execution_count": 11,
   "metadata": {},
   "outputs": [],
   "source": [
    "Container = DockerClient.containers.create(\n",
    "    f\"\"\"registry.gitlab.com/container-images4/docker-jupyter-container:{Tag}\"\"\"\n",
    ")"
   ]
  },
  {
   "cell_type": "code",
   "execution_count": 12,
   "metadata": {},
   "outputs": [
    {
     "data": {
      "text/plain": [
       "'9017726d7b'"
      ]
     },
     "execution_count": 12,
     "metadata": {},
     "output_type": "execute_result"
    }
   ],
   "source": [
    "Container.short_id"
   ]
  },
  {
   "cell_type": "code",
   "execution_count": 13,
   "metadata": {},
   "outputs": [],
   "source": [
    "DockerClient.networks.get(networkContainer.short_id).remove()\n",
    "DockerClient.volumes.get(volumeContainer.short_id).remove()\n",
    "DockerClient.containers.get(Container.short_id).remove()"
   ]
  },
  {
   "cell_type": "code",
   "execution_count": 7,
   "metadata": {},
   "outputs": [
    {
     "ename": "NotFound",
     "evalue": "404 Client Error for http+docker://localhost/v1.41/containers/7094dde5fa78bd120f38fb3d5e2955ed2ebefdfedf57c29cc671d85418dd5a45?v=False&link=False&force=False: Not Found (\"No such container: 7094dde5fa78bd120f38fb3d5e2955ed2ebefdfedf57c29cc671d85418dd5a45\")",
     "output_type": "error",
     "traceback": [
      "\u001b[0;31m---------------------------------------------------------------------------\u001b[0m",
      "\u001b[0;31mHTTPError\u001b[0m                                 Traceback (most recent call last)",
      "File \u001b[0;32m/usr/lib/python3/dist-packages/docker/api/client.py:268\u001b[0m, in \u001b[0;36mAPIClient._raise_for_status\u001b[0;34m(self, response)\u001b[0m\n\u001b[1;32m    267\u001b[0m \u001b[39mtry\u001b[39;00m:\n\u001b[0;32m--> 268\u001b[0m     response\u001b[39m.\u001b[39;49mraise_for_status()\n\u001b[1;32m    269\u001b[0m \u001b[39mexcept\u001b[39;00m requests\u001b[39m.\u001b[39mexceptions\u001b[39m.\u001b[39mHTTPError \u001b[39mas\u001b[39;00m e:\n",
      "File \u001b[0;32m/usr/lib/python3/dist-packages/requests/models.py:1021\u001b[0m, in \u001b[0;36mResponse.raise_for_status\u001b[0;34m(self)\u001b[0m\n\u001b[1;32m   1020\u001b[0m \u001b[39mif\u001b[39;00m http_error_msg:\n\u001b[0;32m-> 1021\u001b[0m     \u001b[39mraise\u001b[39;00m HTTPError(http_error_msg, response\u001b[39m=\u001b[39m\u001b[39mself\u001b[39m)\n",
      "\u001b[0;31mHTTPError\u001b[0m: 404 Client Error: Not Found for url: http+docker://localhost/v1.41/containers/7094dde5fa78bd120f38fb3d5e2955ed2ebefdfedf57c29cc671d85418dd5a45?v=False&link=False&force=False",
      "\nDuring handling of the above exception, another exception occurred:\n",
      "\u001b[0;31mNotFound\u001b[0m                                  Traceback (most recent call last)",
      "Cell \u001b[0;32mIn[7], line 1\u001b[0m\n\u001b[0;32m----> 1\u001b[0m Container\u001b[39m.\u001b[39;49mremove()\n",
      "File \u001b[0;32m/usr/lib/python3/dist-packages/docker/models/containers.py:351\u001b[0m, in \u001b[0;36mContainer.remove\u001b[0;34m(self, **kwargs)\u001b[0m\n\u001b[1;32m    336\u001b[0m \u001b[39mdef\u001b[39;00m \u001b[39mremove\u001b[39m(\u001b[39mself\u001b[39m, \u001b[39m*\u001b[39m\u001b[39m*\u001b[39mkwargs):\n\u001b[1;32m    337\u001b[0m \u001b[39m    \u001b[39m\u001b[39m\"\"\"\u001b[39;00m\n\u001b[1;32m    338\u001b[0m \u001b[39m    Remove this container. Similar to the ``docker rm`` command.\u001b[39;00m\n\u001b[1;32m    339\u001b[0m \n\u001b[0;32m   (...)\u001b[0m\n\u001b[1;32m    349\u001b[0m \u001b[39m            If the server returns an error.\u001b[39;00m\n\u001b[1;32m    350\u001b[0m \u001b[39m    \"\"\"\u001b[39;00m\n\u001b[0;32m--> 351\u001b[0m     \u001b[39mreturn\u001b[39;00m \u001b[39mself\u001b[39;49m\u001b[39m.\u001b[39;49mclient\u001b[39m.\u001b[39;49mapi\u001b[39m.\u001b[39;49mremove_container(\u001b[39mself\u001b[39;49m\u001b[39m.\u001b[39;49mid, \u001b[39m*\u001b[39;49m\u001b[39m*\u001b[39;49mkwargs)\n",
      "File \u001b[0;32m/usr/lib/python3/dist-packages/docker/utils/decorators.py:19\u001b[0m, in \u001b[0;36mcheck_resource.<locals>.decorator.<locals>.wrapped\u001b[0;34m(self, resource_id, *args, **kwargs)\u001b[0m\n\u001b[1;32m     15\u001b[0m \u001b[39mif\u001b[39;00m \u001b[39mnot\u001b[39;00m resource_id:\n\u001b[1;32m     16\u001b[0m     \u001b[39mraise\u001b[39;00m errors\u001b[39m.\u001b[39mNullResource(\n\u001b[1;32m     17\u001b[0m         \u001b[39m'\u001b[39m\u001b[39mResource ID was not provided\u001b[39m\u001b[39m'\u001b[39m\n\u001b[1;32m     18\u001b[0m     )\n\u001b[0;32m---> 19\u001b[0m \u001b[39mreturn\u001b[39;00m f(\u001b[39mself\u001b[39;49m, resource_id, \u001b[39m*\u001b[39;49margs, \u001b[39m*\u001b[39;49m\u001b[39m*\u001b[39;49mkwargs)\n",
      "File \u001b[0;32m/usr/lib/python3/dist-packages/docker/api/container.py:1010\u001b[0m, in \u001b[0;36mContainerApiMixin.remove_container\u001b[0;34m(self, container, v, link, force)\u001b[0m\n\u001b[1;32m   1006\u001b[0m params \u001b[39m=\u001b[39m {\u001b[39m'\u001b[39m\u001b[39mv\u001b[39m\u001b[39m'\u001b[39m: v, \u001b[39m'\u001b[39m\u001b[39mlink\u001b[39m\u001b[39m'\u001b[39m: link, \u001b[39m'\u001b[39m\u001b[39mforce\u001b[39m\u001b[39m'\u001b[39m: force}\n\u001b[1;32m   1007\u001b[0m res \u001b[39m=\u001b[39m \u001b[39mself\u001b[39m\u001b[39m.\u001b[39m_delete(\n\u001b[1;32m   1008\u001b[0m     \u001b[39mself\u001b[39m\u001b[39m.\u001b[39m_url(\u001b[39m\"\u001b[39m\u001b[39m/containers/\u001b[39m\u001b[39m{0}\u001b[39;00m\u001b[39m\"\u001b[39m, container), params\u001b[39m=\u001b[39mparams\n\u001b[1;32m   1009\u001b[0m )\n\u001b[0;32m-> 1010\u001b[0m \u001b[39mself\u001b[39;49m\u001b[39m.\u001b[39;49m_raise_for_status(res)\n",
      "File \u001b[0;32m/usr/lib/python3/dist-packages/docker/api/client.py:270\u001b[0m, in \u001b[0;36mAPIClient._raise_for_status\u001b[0;34m(self, response)\u001b[0m\n\u001b[1;32m    268\u001b[0m     response\u001b[39m.\u001b[39mraise_for_status()\n\u001b[1;32m    269\u001b[0m \u001b[39mexcept\u001b[39;00m requests\u001b[39m.\u001b[39mexceptions\u001b[39m.\u001b[39mHTTPError \u001b[39mas\u001b[39;00m e:\n\u001b[0;32m--> 270\u001b[0m     \u001b[39mraise\u001b[39;00m create_api_error_from_http_exception(e)\n",
      "File \u001b[0;32m/usr/lib/python3/dist-packages/docker/errors.py:31\u001b[0m, in \u001b[0;36mcreate_api_error_from_http_exception\u001b[0;34m(e)\u001b[0m\n\u001b[1;32m     29\u001b[0m     \u001b[39melse\u001b[39;00m:\n\u001b[1;32m     30\u001b[0m         \u001b[39mcls\u001b[39m \u001b[39m=\u001b[39m NotFound\n\u001b[0;32m---> 31\u001b[0m \u001b[39mraise\u001b[39;00m \u001b[39mcls\u001b[39m(e, response\u001b[39m=\u001b[39mresponse, explanation\u001b[39m=\u001b[39mexplanation)\n",
      "\u001b[0;31mNotFound\u001b[0m: 404 Client Error for http+docker://localhost/v1.41/containers/7094dde5fa78bd120f38fb3d5e2955ed2ebefdfedf57c29cc671d85418dd5a45?v=False&link=False&force=False: Not Found (\"No such container: 7094dde5fa78bd120f38fb3d5e2955ed2ebefdfedf57c29cc671d85418dd5a45\")"
     ]
    }
   ],
   "source": [
    "Container.remove()"
   ]
  },
  {
   "cell_type": "code",
   "execution_count": 7,
   "metadata": {},
   "outputs": [
    {
     "data": {
      "text/plain": [
       "1687851992.037772"
      ]
     },
     "execution_count": 7,
     "metadata": {},
     "output_type": "execute_result"
    }
   ],
   "source": [
    "import datetime\n",
    "\n",
    "datetime.datetime.now().timestamp()"
   ]
  },
  {
   "cell_type": "code",
   "execution_count": 17,
   "metadata": {},
   "outputs": [],
   "source": [
    "gpuSetting = [0]"
   ]
  },
  {
   "cell_type": "code",
   "execution_count": 18,
   "metadata": {},
   "outputs": [
    {
     "data": {
      "text/plain": [
       "1"
      ]
     },
     "execution_count": 18,
     "metadata": {},
     "output_type": "execute_result"
    }
   ],
   "source": [
    "len(gpuSetting)"
   ]
  }
 ],
 "metadata": {
  "kernelspec": {
   "display_name": "Python 3",
   "language": "python",
   "name": "python3"
  },
  "language_info": {
   "codemirror_mode": {
    "name": "ipython",
    "version": 3
   },
   "file_extension": ".py",
   "mimetype": "text/x-python",
   "name": "python",
   "nbconvert_exporter": "python",
   "pygments_lexer": "ipython3",
   "version": "3.11.2"
  },
  "orig_nbformat": 4
 },
 "nbformat": 4,
 "nbformat_minor": 2
}
