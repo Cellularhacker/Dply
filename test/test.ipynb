{
 "cells": [
  {
   "cell_type": "code",
   "execution_count": null,
   "metadata": {},
   "outputs": [],
   "source": [
    "import sqlite3\n",
    "\n",
    "SQL = sqlite3.connect(\"SQL/SQL.sqlite\")\n",
    "DataBase = SQL.cursor()"
   ]
  },
  {
   "cell_type": "code",
   "execution_count": null,
   "metadata": {},
   "outputs": [],
   "source": [
    "id = 3\n",
    "DataBase.execute(f\"\"\"select exists (select * from devContainer where id = {id});\"\"\").fetchall()[0][0]\n",
    "bool(1)"
   ]
  },
  {
   "cell_type": "code",
   "execution_count": null,
   "metadata": {},
   "outputs": [],
   "source": [
    "projectName = \"mireuTest\"\n",
    "\n",
    "devContainerID = str(DataBase.execute(\n",
    "    f\"SELECT `devContainerID` FROM `devContainer` WHERE `DevContainerName` = '{projectName}'\"\n",
    ").fetchall()[0][0])\n",
    "\n",
    "databasesIDs = DataBase.execute(\n",
    "    f\"SELECT `databaseID` FROM `databaseContainer` WHERE `devContainerID` = '{devContainerID}'\"\n",
    ").fetchall()   "
   ]
  },
  {
   "cell_type": "code",
   "execution_count": null,
   "metadata": {},
   "outputs": [],
   "source": [
    "databases = DataBase.execute(\"SELECT `databaseType`, `databaseID` FROM `databaseContainer` WHERE `devContainerID` = '7184e98acb';\").fetchall()"
   ]
  },
  {
   "cell_type": "code",
   "execution_count": null,
   "metadata": {},
   "outputs": [],
   "source": [
    "for database in databases:\n",
    "    print(database[0])"
   ]
  },
  {
   "cell_type": "code",
   "execution_count": null,
   "metadata": {},
   "outputs": [],
   "source": [
    "Tag = \"0sshcontainer\".replace(\"0\", \"ubuntu\")\n",
    "\n",
    "if \"GPU\" == \"GPU\":\n",
    "    Tag = \"gpu\" + Tag"
   ]
  },
  {
   "cell_type": "code",
   "execution_count": null,
   "metadata": {},
   "outputs": [],
   "source": [
    "import docker\n",
    "\n",
    "DockerClient = docker.DockerClient()\n",
    "\n"
   ]
  },
  {
   "cell_type": "code",
   "execution_count": null,
   "metadata": {},
   "outputs": [],
   "source": []
  },
  {
   "cell_type": "code",
   "execution_count": null,
   "metadata": {},
   "outputs": [],
   "source": [
    "import docker\n",
    "\n",
    "DockerClient = docker.DockerClient()\n",
    "\n",
    "networkContainer = DockerClient.networks.create(\"test\")\n",
    "volumeContainer = DockerClient.volumes.create(\"test\")\n",
    "\n",
    "containerOS = \"ubuntu\"\n",
    "\n",
    "Tag = \"containerjupyter0\".replace(\n",
    "    \"0\", containerOS\n",
    ")\n",
    "\n",
    "DockerClient.images.pull(\n",
    "    f\"\"\"registry.gitlab.com/container-images4/docker-jupyter-container:{Tag}\"\"\"\n",
    ")\n",
    "\n",
    "Container = DockerClient.containers.create(\n",
    "    f\"\"\"registry.gitlab.com/container-images4/docker-jupyter-container:{Tag}\"\"\"\n",
    ")\n",
    "\n",
    "Container.remove()\n",
    "DockerClient.networks.get(networkContainer.short_id).remove()\n",
    "DockerClient.volumes.get(volumeContainer.short_id).remove()\n",
    "DockerClient.containers.get(Container.short_id).remove()"
   ]
  },
  {
   "cell_type": "code",
   "execution_count": null,
   "metadata": {},
   "outputs": [],
   "source": [
    "import docker\n",
    "\n",
    "DockerClient = docker.DockerClient()\n",
    "\n",
    "test = []\n",
    "\n",
    "for containerID in (DockerClient.volumes.list()):\n",
    "    test.append(containerID.id) if (containerID.id).startswith('string') else None\n",
    "\n",
    "test"
   ]
  },
  {
   "cell_type": "code",
   "execution_count": null,
   "metadata": {},
   "outputs": [],
   "source": [
    "import datetime\n",
    "\n",
    "datetime.datetime.now().timestamp()"
   ]
  },
  {
   "cell_type": "code",
   "execution_count": null,
   "metadata": {},
   "outputs": [],
   "source": [
    "gpuDevice = [10,12,10,10]\n",
    "\n",
    "gpuDevice.index(min(gpuDevice))"
   ]
  },
  {
   "cell_type": "code",
   "execution_count": null,
   "metadata": {
    "notebookRunGroups": {
     "groupValue": "2"
    }
   },
   "outputs": [],
   "source": [
    "import docker\n",
    "\n",
    "client = docker.from_env()\n",
    "\n",
    "device_id = 0\n",
    "\n",
    "gpuSetting = [docker.types.DeviceRequest(device_ids=[device_id], capabilities=[[\"gpu\"]])]\n",
    "\n",
    "\n",
    "container = client.containers.run(\n",
    "    \"nvidia/cuda:11.6.2-base-ubuntu20.04\", \n",
    "    \"nvidia-smi\",\n",
    "    device_requests=gpuSetting\n",
    ")\n"
   ]
  },
  {
   "cell_type": "code",
   "execution_count": null,
   "metadata": {},
   "outputs": [],
   "source": [
    "import docker\n",
    "\n",
    "DockerClient = docker.from_env()\n",
    "\n",
    "OS = [\"centos\", \"rockylinux\", \"ubuntu\"]\n",
    "\n",
    "\n",
    "for os in OS:\n",
    "    print(f\"registry.gitlab.com/container-images4/docker-ssh-conteiner:gpu{os}sshcontainer\")\n",
    "    DockerClient.images.pull(f\"registry.gitlab.com/container-images4/docker-ssh-conteiner:gpu{os}sshcontainer\")\n",
    "    \n",
    "\n",
    "for os in OS:\n",
    "    print(f\"registry.gitlab.com/container-images4/docker-jupyter-container:gpucontainerjupyter{os}\")\n",
    "    DockerClient.images.pull(f\"registry.gitlab.com/container-images4/docker-jupyter-container:gpucontainerjupyter{os}\")"
   ]
  },
  {
   "cell_type": "code",
   "execution_count": null,
   "metadata": {},
   "outputs": [],
   "source": [
    "OS = [\"centos\", \"rockylinux\", \"ubuntu\"]\n",
    "\n",
    "\n",
    "for os in OS:\n",
    "    print(f\"registry.gitlab.com/container-images4/docker-ssh-conteiner:gpu{os}sshcontainer\")\n",
    "\n",
    "for os in OS:\n",
    "    print(f\"registry.gitlab.com/container-images4/docker-jupyter-container:gpucontainerjupyter{os}\")    "
   ]
  },
  {
   "cell_type": "code",
   "execution_count": null,
   "metadata": {},
   "outputs": [],
   "source": [
    "import docker\n",
    "\n",
    "DockerClient = docker.DockerClient()\n",
    "\n",
    "DockerClient.containers.get(\"0888e3009217\").attrs"
   ]
  },
  {
   "cell_type": "code",
   "execution_count": 1,
   "metadata": {},
   "outputs": [
    {
     "name": "stdout",
     "output_type": "stream",
     "text": [
      "[('string', 'Jupyter', 1, 65149, 0, 1688545385.587554, '538a707202')]\n"
     ]
    }
   ],
   "source": [
    "import sqlite3\n",
    "\n",
    "SQL = sqlite3.connect(\"SQL/SQL.sqlite\")\n",
    "DataBase = SQL.cursor()\n",
    "\n",
    "print(DataBase.execute(f\"\"\"select `projectName`, `devContainerType`, `devContainerStatus`, `port`, `GPU`, `createdTimes`, `devContainerID` from `devContainer`;\"\"\").fetchall())"
   ]
  },
  {
   "cell_type": "code",
   "execution_count": 35,
   "metadata": {},
   "outputs": [],
   "source": [
    "import pandas as pd\n",
    "\n",
    "table = dict(pd.read_sql(f\"\"\"select `projectName`, `devContainerType`, `devContainerStatus`, `port`, `GPU`, `createdTimes`, `devContainerID` from `devContainer`;\"\"\", SQL))\n",
    "\n",
    "# table = dict(pd.read_sql_query(f\"\"\"select `projectName`, `devContainerType`, `devContainerStatus`, `port`, `GPU`, `createdTimes`, `devContainerID` from `devContainer`;\"\"\", SQL))"
   ]
  },
  {
   "cell_type": "code",
   "execution_count": 36,
   "metadata": {},
   "outputs": [
    {
     "data": {
      "text/plain": [
       "{'projectName': 0    string\n",
       " Name: projectName, dtype: object,\n",
       " 'devContainerType': 0    Jupyter\n",
       " Name: devContainerType, dtype: object,\n",
       " 'devContainerStatus': 0    1\n",
       " Name: devContainerStatus, dtype: int64,\n",
       " 'port': 0    65149\n",
       " Name: port, dtype: int64,\n",
       " 'gpu': 0    0\n",
       " Name: gpu, dtype: int64,\n",
       " 'createdTimes': 0    1.688545e+09\n",
       " Name: createdTimes, dtype: float64,\n",
       " 'devContainerID': 0    538a707202\n",
       " Name: devContainerID, dtype: object}"
      ]
     },
     "execution_count": 36,
     "metadata": {},
     "output_type": "execute_result"
    }
   ],
   "source": [
    "table"
   ]
  },
  {
   "cell_type": "code",
   "execution_count": 29,
   "metadata": {},
   "outputs": [],
   "source": [
    "def test1():\n",
    "    outList = []\n",
    "\n",
    "    for projectInfo in DataBase.execute(\n",
    "        f\"\"\"select `projectName`, `devContainerType`, `devContainerStatus`, `port`, `GPU`, `createdTimes`, `devContainerID` from `devContainer`;\"\"\"\n",
    "    ).fetchall():\n",
    "        databaseTypeName = []\n",
    "\n",
    "        for databaseInfo in DataBase.execute(\n",
    "            f\"\"\"select `databaseType` from `databaseContainer` where `devContainerID` = '{str(projectInfo[6])}';\"\"\"\n",
    "        ).fetchall():\n",
    "            databaseTypeName.append(databaseInfo[0])\n",
    "\n",
    "        outList.append(\n",
    "            {\n",
    "                \"projectName\": str(projectInfo[0]),\n",
    "                \"devContainer\": {\n",
    "                    \"Type\": str(projectInfo[1]),\n",
    "                    \"status\": bool(projectInfo[2]),\n",
    "                    \"port\": int(projectInfo[3]),\n",
    "                    \"gpu\": int(projectInfo[3]),\n",
    "                    \"createdTimes\": projectInfo[5],\n",
    "                },\n",
    "                \"databaseContainer\": databaseTypeName,\n",
    "            }\n",
    "        )\n",
    "    \n",
    "    return outList"
   ]
  },
  {
   "cell_type": "code",
   "execution_count": 32,
   "metadata": {},
   "outputs": [
    {
     "name": "stdout",
     "output_type": "stream",
     "text": [
      "0.0008821487426757812\n"
     ]
    }
   ],
   "source": [
    "import datetime\n",
    "\n",
    "\n",
    "start = datetime.datetime.now().timestamp()\n",
    "test1()\n",
    "end = datetime.datetime.now().timestamp()\n",
    "\n",
    "print(end - start)"
   ]
  },
  {
   "cell_type": "code",
   "execution_count": null,
   "metadata": {},
   "outputs": [],
   "source": []
  }
 ],
 "metadata": {
  "kernelspec": {
   "display_name": "Python 3",
   "language": "python",
   "name": "python3"
  },
  "language_info": {
   "codemirror_mode": {
    "name": "ipython",
    "version": 3
   },
   "file_extension": ".py",
   "mimetype": "text/x-python",
   "name": "python",
   "nbconvert_exporter": "python",
   "pygments_lexer": "ipython3",
   "version": "3.10.6"
  },
  "orig_nbformat": 4
 },
 "nbformat": 4,
 "nbformat_minor": 2
}
